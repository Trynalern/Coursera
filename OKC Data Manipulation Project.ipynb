{
 "cells": [
  {
   "cell_type": "markdown",
   "id": "b553b80a",
   "metadata": {},
   "source": [
    "Description: Data Manipulation Project on NBA player statistics completed for the Oklahoma City Thunder. "
   ]
  },
  {
   "cell_type": "markdown",
   "id": "ec9148f8",
   "metadata": {},
   "source": [
    "### Question   \n",
    "\n",
    "**QUESTION:** What is the average number of points per game for players in the 2007-2021 seasons who won All NBA First, Second, and Third teams (**not** the All Defensive Teams), as well as for players who were in the All-Star Game (**not** the rookie all-star game)?\n",
    "\n",
    "\n",
    " "
   ]
  },
  {
   "cell_type": "code",
   "execution_count": 2,
   "id": "d3fb2e4d",
   "metadata": {},
   "outputs": [],
   "source": [
    "import pandas as pd"
   ]
  },
  {
   "cell_type": "code",
   "execution_count": 3,
   "id": "fa48875c",
   "metadata": {},
   "outputs": [],
   "source": [
    "df_awards = pd.read_csv('okcdata/awards_data.csv')"
   ]
  },
  {
   "cell_type": "code",
   "execution_count": 4,
   "id": "a2df6e35",
   "metadata": {},
   "outputs": [],
   "source": [
    "df_playerstats = pd.read_csv('okcdata/player_stats.csv')"
   ]
  },
  {
   "cell_type": "code",
   "execution_count": 5,
   "id": "5a0c42bf",
   "metadata": {},
   "outputs": [],
   "source": [
    "filtered_awards1 = df_awards[df_awards['All NBA First Team'] >= 1]"
   ]
  },
  {
   "cell_type": "code",
   "execution_count": 6,
   "id": "849ca6f4",
   "metadata": {
    "scrolled": true
   },
   "outputs": [],
   "source": [
    "merged_df1 = filtered_awards1.merge(df_playerstats, on='nbapersonid', how='left')"
   ]
  },
  {
   "cell_type": "code",
   "execution_count": 27,
   "id": "05fe67df",
   "metadata": {},
   "outputs": [
    {
     "data": {
      "text/plain": [
       "1361991"
      ]
     },
     "execution_count": 27,
     "metadata": {},
     "output_type": "execute_result"
    }
   ],
   "source": [
    "merged_df1['points'].sum()"
   ]
  },
  {
   "cell_type": "code",
   "execution_count": 28,
   "id": "f83b0398",
   "metadata": {},
   "outputs": [
    {
     "data": {
      "text/plain": [
       "59884"
      ]
     },
     "execution_count": 28,
     "metadata": {},
     "output_type": "execute_result"
    }
   ],
   "source": [
    "merged_df1['games'].sum()"
   ]
  },
  {
   "cell_type": "code",
   "execution_count": 8,
   "id": "b9312eec",
   "metadata": {
    "scrolled": true
   },
   "outputs": [],
   "source": [
    "filtered_awards2 = df_awards[df_awards['All NBA Second Team'] >= 1]"
   ]
  },
  {
   "cell_type": "code",
   "execution_count": 9,
   "id": "9bffec94",
   "metadata": {},
   "outputs": [],
   "source": [
    "merged_df2 = filtered_awards2.merge(df_playerstats, on='nbapersonid', how='left')"
   ]
  },
  {
   "cell_type": "code",
   "execution_count": 10,
   "id": "0ebdb476",
   "metadata": {},
   "outputs": [
    {
     "data": {
      "text/plain": [
       "1107139"
      ]
     },
     "execution_count": 10,
     "metadata": {},
     "output_type": "execute_result"
    }
   ],
   "source": [
    "merged_df2['points'].sum()"
   ]
  },
  {
   "cell_type": "code",
   "execution_count": 30,
   "id": "084f4449",
   "metadata": {},
   "outputs": [
    {
     "data": {
      "text/plain": [
       "54807"
      ]
     },
     "execution_count": 30,
     "metadata": {},
     "output_type": "execute_result"
    }
   ],
   "source": [
    "merged_df2['games'].sum()"
   ]
  },
  {
   "cell_type": "code",
   "execution_count": 33,
   "id": "75344347",
   "metadata": {},
   "outputs": [
    {
     "data": {
      "text/html": [
       "<div>\n",
       "<style scoped>\n",
       "    .dataframe tbody tr th:only-of-type {\n",
       "        vertical-align: middle;\n",
       "    }\n",
       "\n",
       "    .dataframe tbody tr th {\n",
       "        vertical-align: top;\n",
       "    }\n",
       "\n",
       "    .dataframe thead th {\n",
       "        text-align: right;\n",
       "    }\n",
       "</style>\n",
       "<table border=\"1\" class=\"dataframe\">\n",
       "  <thead>\n",
       "    <tr style=\"text-align: right;\">\n",
       "      <th></th>\n",
       "      <th>season</th>\n",
       "      <th>nbapersonid</th>\n",
       "      <th>All NBA Defensive First Team</th>\n",
       "      <th>All NBA Defensive Second Team</th>\n",
       "      <th>All NBA First Team</th>\n",
       "      <th>All NBA Second Team</th>\n",
       "      <th>All NBA Third Team</th>\n",
       "      <th>All Rookie First Team</th>\n",
       "      <th>All Rookie Second Team</th>\n",
       "      <th>Bill Russell NBA Finals MVP</th>\n",
       "      <th>Player Of The Month</th>\n",
       "      <th>Player Of The Week</th>\n",
       "      <th>Rookie Of The Month</th>\n",
       "      <th>all_star_game</th>\n",
       "      <th>rookie_all_star_game</th>\n",
       "      <th>allstar_rk</th>\n",
       "      <th>Defensive Player Of The Year_rk</th>\n",
       "      <th>Most Improved Player_rk</th>\n",
       "      <th>Most Valuable Player_rk</th>\n",
       "      <th>Rookie Of The Year_rk</th>\n",
       "      <th>Sixth Man Of The Year_rk</th>\n",
       "      <th>all_nba_points_rk</th>\n",
       "      <th>all_rookie_points_rk</th>\n",
       "    </tr>\n",
       "  </thead>\n",
       "  <tbody>\n",
       "    <tr>\n",
       "      <th>7</th>\n",
       "      <td>2007</td>\n",
       "      <td>1503.0</td>\n",
       "      <td>0.0</td>\n",
       "      <td>0.0</td>\n",
       "      <td>0.0</td>\n",
       "      <td>0.0</td>\n",
       "      <td>1.0</td>\n",
       "      <td>0.0</td>\n",
       "      <td>0.0</td>\n",
       "      <td>0.0</td>\n",
       "      <td>0.0</td>\n",
       "      <td>2.0</td>\n",
       "      <td>0.0</td>\n",
       "      <td>NaN</td>\n",
       "      <td>NaN</td>\n",
       "      <td>3.0</td>\n",
       "      <td>NaN</td>\n",
       "      <td>NaN</td>\n",
       "      <td>8.0</td>\n",
       "      <td>NaN</td>\n",
       "      <td>NaN</td>\n",
       "      <td>NaN</td>\n",
       "      <td>NaN</td>\n",
       "    </tr>\n",
       "    <tr>\n",
       "      <th>11</th>\n",
       "      <td>2007</td>\n",
       "      <td>1718.0</td>\n",
       "      <td>0.0</td>\n",
       "      <td>0.0</td>\n",
       "      <td>0.0</td>\n",
       "      <td>0.0</td>\n",
       "      <td>1.0</td>\n",
       "      <td>0.0</td>\n",
       "      <td>0.0</td>\n",
       "      <td>1.0</td>\n",
       "      <td>0.0</td>\n",
       "      <td>2.0</td>\n",
       "      <td>0.0</td>\n",
       "      <td>True</td>\n",
       "      <td>False</td>\n",
       "      <td>4.0</td>\n",
       "      <td>NaN</td>\n",
       "      <td>NaN</td>\n",
       "      <td>14.0</td>\n",
       "      <td>NaN</td>\n",
       "      <td>NaN</td>\n",
       "      <td>NaN</td>\n",
       "      <td>NaN</td>\n",
       "    </tr>\n",
       "    <tr>\n",
       "      <th>15</th>\n",
       "      <td>2007</td>\n",
       "      <td>1938.0</td>\n",
       "      <td>0.0</td>\n",
       "      <td>0.0</td>\n",
       "      <td>0.0</td>\n",
       "      <td>0.0</td>\n",
       "      <td>1.0</td>\n",
       "      <td>0.0</td>\n",
       "      <td>0.0</td>\n",
       "      <td>0.0</td>\n",
       "      <td>0.0</td>\n",
       "      <td>1.0</td>\n",
       "      <td>0.0</td>\n",
       "      <td>NaN</td>\n",
       "      <td>NaN</td>\n",
       "      <td>6.0</td>\n",
       "      <td>NaN</td>\n",
       "      <td>NaN</td>\n",
       "      <td>10.0</td>\n",
       "      <td>NaN</td>\n",
       "      <td>1.0</td>\n",
       "      <td>NaN</td>\n",
       "      <td>NaN</td>\n",
       "    </tr>\n",
       "    <tr>\n",
       "      <th>23</th>\n",
       "      <td>2007</td>\n",
       "      <td>2397.0</td>\n",
       "      <td>0.0</td>\n",
       "      <td>0.0</td>\n",
       "      <td>0.0</td>\n",
       "      <td>0.0</td>\n",
       "      <td>1.0</td>\n",
       "      <td>0.0</td>\n",
       "      <td>0.0</td>\n",
       "      <td>0.0</td>\n",
       "      <td>1.0</td>\n",
       "      <td>1.0</td>\n",
       "      <td>0.0</td>\n",
       "      <td>True</td>\n",
       "      <td>False</td>\n",
       "      <td>1.0</td>\n",
       "      <td>NaN</td>\n",
       "      <td>NaN</td>\n",
       "      <td>NaN</td>\n",
       "      <td>NaN</td>\n",
       "      <td>NaN</td>\n",
       "      <td>NaN</td>\n",
       "      <td>NaN</td>\n",
       "    </tr>\n",
       "    <tr>\n",
       "      <th>26</th>\n",
       "      <td>2007</td>\n",
       "      <td>2430.0</td>\n",
       "      <td>0.0</td>\n",
       "      <td>0.0</td>\n",
       "      <td>0.0</td>\n",
       "      <td>0.0</td>\n",
       "      <td>1.0</td>\n",
       "      <td>0.0</td>\n",
       "      <td>0.0</td>\n",
       "      <td>0.0</td>\n",
       "      <td>1.0</td>\n",
       "      <td>0.0</td>\n",
       "      <td>0.0</td>\n",
       "      <td>True</td>\n",
       "      <td>False</td>\n",
       "      <td>4.0</td>\n",
       "      <td>NaN</td>\n",
       "      <td>NaN</td>\n",
       "      <td>14.0</td>\n",
       "      <td>NaN</td>\n",
       "      <td>NaN</td>\n",
       "      <td>NaN</td>\n",
       "      <td>NaN</td>\n",
       "    </tr>\n",
       "    <tr>\n",
       "      <th>...</th>\n",
       "      <td>...</td>\n",
       "      <td>...</td>\n",
       "      <td>...</td>\n",
       "      <td>...</td>\n",
       "      <td>...</td>\n",
       "      <td>...</td>\n",
       "      <td>...</td>\n",
       "      <td>...</td>\n",
       "      <td>...</td>\n",
       "      <td>...</td>\n",
       "      <td>...</td>\n",
       "      <td>...</td>\n",
       "      <td>...</td>\n",
       "      <td>...</td>\n",
       "      <td>...</td>\n",
       "      <td>...</td>\n",
       "      <td>...</td>\n",
       "      <td>...</td>\n",
       "      <td>...</td>\n",
       "      <td>...</td>\n",
       "      <td>...</td>\n",
       "      <td>...</td>\n",
       "      <td>...</td>\n",
       "    </tr>\n",
       "    <tr>\n",
       "      <th>646</th>\n",
       "      <td>2021</td>\n",
       "      <td>2544.0</td>\n",
       "      <td>0.0</td>\n",
       "      <td>0.0</td>\n",
       "      <td>0.0</td>\n",
       "      <td>0.0</td>\n",
       "      <td>1.0</td>\n",
       "      <td>0.0</td>\n",
       "      <td>0.0</td>\n",
       "      <td>0.0</td>\n",
       "      <td>0.0</td>\n",
       "      <td>1.0</td>\n",
       "      <td>0.0</td>\n",
       "      <td>True</td>\n",
       "      <td>False</td>\n",
       "      <td>1.0</td>\n",
       "      <td>NaN</td>\n",
       "      <td>NaN</td>\n",
       "      <td>10.0</td>\n",
       "      <td>NaN</td>\n",
       "      <td>NaN</td>\n",
       "      <td>12.0</td>\n",
       "      <td>NaN</td>\n",
       "    </tr>\n",
       "    <tr>\n",
       "      <th>647</th>\n",
       "      <td>2021</td>\n",
       "      <td>101108.0</td>\n",
       "      <td>0.0</td>\n",
       "      <td>0.0</td>\n",
       "      <td>0.0</td>\n",
       "      <td>0.0</td>\n",
       "      <td>1.0</td>\n",
       "      <td>0.0</td>\n",
       "      <td>0.0</td>\n",
       "      <td>0.0</td>\n",
       "      <td>0.0</td>\n",
       "      <td>1.0</td>\n",
       "      <td>0.0</td>\n",
       "      <td>True</td>\n",
       "      <td>False</td>\n",
       "      <td>4.0</td>\n",
       "      <td>NaN</td>\n",
       "      <td>NaN</td>\n",
       "      <td>9.0</td>\n",
       "      <td>NaN</td>\n",
       "      <td>NaN</td>\n",
       "      <td>13.0</td>\n",
       "      <td>NaN</td>\n",
       "    </tr>\n",
       "    <tr>\n",
       "      <th>662</th>\n",
       "      <td>2021</td>\n",
       "      <td>1626157.0</td>\n",
       "      <td>0.0</td>\n",
       "      <td>0.0</td>\n",
       "      <td>0.0</td>\n",
       "      <td>0.0</td>\n",
       "      <td>1.0</td>\n",
       "      <td>0.0</td>\n",
       "      <td>0.0</td>\n",
       "      <td>0.0</td>\n",
       "      <td>0.0</td>\n",
       "      <td>3.0</td>\n",
       "      <td>0.0</td>\n",
       "      <td>True</td>\n",
       "      <td>False</td>\n",
       "      <td>7.0</td>\n",
       "      <td>NaN</td>\n",
       "      <td>NaN</td>\n",
       "      <td>NaN</td>\n",
       "      <td>NaN</td>\n",
       "      <td>NaN</td>\n",
       "      <td>11.0</td>\n",
       "      <td>NaN</td>\n",
       "    </tr>\n",
       "    <tr>\n",
       "      <th>666</th>\n",
       "      <td>2021</td>\n",
       "      <td>1627783.0</td>\n",
       "      <td>0.0</td>\n",
       "      <td>0.0</td>\n",
       "      <td>0.0</td>\n",
       "      <td>0.0</td>\n",
       "      <td>1.0</td>\n",
       "      <td>0.0</td>\n",
       "      <td>0.0</td>\n",
       "      <td>0.0</td>\n",
       "      <td>0.0</td>\n",
       "      <td>1.0</td>\n",
       "      <td>0.0</td>\n",
       "      <td>NaN</td>\n",
       "      <td>NaN</td>\n",
       "      <td>9.0</td>\n",
       "      <td>NaN</td>\n",
       "      <td>NaN</td>\n",
       "      <td>NaN</td>\n",
       "      <td>NaN</td>\n",
       "      <td>NaN</td>\n",
       "      <td>15.0</td>\n",
       "      <td>NaN</td>\n",
       "    </tr>\n",
       "    <tr>\n",
       "      <th>676</th>\n",
       "      <td>2021</td>\n",
       "      <td>1629027.0</td>\n",
       "      <td>0.0</td>\n",
       "      <td>0.0</td>\n",
       "      <td>0.0</td>\n",
       "      <td>0.0</td>\n",
       "      <td>1.0</td>\n",
       "      <td>0.0</td>\n",
       "      <td>0.0</td>\n",
       "      <td>0.0</td>\n",
       "      <td>0.0</td>\n",
       "      <td>3.0</td>\n",
       "      <td>0.0</td>\n",
       "      <td>True</td>\n",
       "      <td>False</td>\n",
       "      <td>2.0</td>\n",
       "      <td>NaN</td>\n",
       "      <td>NaN</td>\n",
       "      <td>NaN</td>\n",
       "      <td>NaN</td>\n",
       "      <td>NaN</td>\n",
       "      <td>14.0</td>\n",
       "      <td>NaN</td>\n",
       "    </tr>\n",
       "  </tbody>\n",
       "</table>\n",
       "<p>75 rows × 23 columns</p>\n",
       "</div>"
      ],
      "text/plain": [
       "     season  nbapersonid  All NBA Defensive First Team  \\\n",
       "7      2007       1503.0                           0.0   \n",
       "11     2007       1718.0                           0.0   \n",
       "15     2007       1938.0                           0.0   \n",
       "23     2007       2397.0                           0.0   \n",
       "26     2007       2430.0                           0.0   \n",
       "..      ...          ...                           ...   \n",
       "646    2021       2544.0                           0.0   \n",
       "647    2021     101108.0                           0.0   \n",
       "662    2021    1626157.0                           0.0   \n",
       "666    2021    1627783.0                           0.0   \n",
       "676    2021    1629027.0                           0.0   \n",
       "\n",
       "     All NBA Defensive Second Team  All NBA First Team  All NBA Second Team  \\\n",
       "7                              0.0                 0.0                  0.0   \n",
       "11                             0.0                 0.0                  0.0   \n",
       "15                             0.0                 0.0                  0.0   \n",
       "23                             0.0                 0.0                  0.0   \n",
       "26                             0.0                 0.0                  0.0   \n",
       "..                             ...                 ...                  ...   \n",
       "646                            0.0                 0.0                  0.0   \n",
       "647                            0.0                 0.0                  0.0   \n",
       "662                            0.0                 0.0                  0.0   \n",
       "666                            0.0                 0.0                  0.0   \n",
       "676                            0.0                 0.0                  0.0   \n",
       "\n",
       "     All NBA Third Team  All Rookie First Team  All Rookie Second Team  \\\n",
       "7                   1.0                    0.0                     0.0   \n",
       "11                  1.0                    0.0                     0.0   \n",
       "15                  1.0                    0.0                     0.0   \n",
       "23                  1.0                    0.0                     0.0   \n",
       "26                  1.0                    0.0                     0.0   \n",
       "..                  ...                    ...                     ...   \n",
       "646                 1.0                    0.0                     0.0   \n",
       "647                 1.0                    0.0                     0.0   \n",
       "662                 1.0                    0.0                     0.0   \n",
       "666                 1.0                    0.0                     0.0   \n",
       "676                 1.0                    0.0                     0.0   \n",
       "\n",
       "     Bill Russell NBA Finals MVP  Player Of The Month  Player Of The Week  \\\n",
       "7                            0.0                  0.0                 2.0   \n",
       "11                           1.0                  0.0                 2.0   \n",
       "15                           0.0                  0.0                 1.0   \n",
       "23                           0.0                  1.0                 1.0   \n",
       "26                           0.0                  1.0                 0.0   \n",
       "..                           ...                  ...                 ...   \n",
       "646                          0.0                  0.0                 1.0   \n",
       "647                          0.0                  0.0                 1.0   \n",
       "662                          0.0                  0.0                 3.0   \n",
       "666                          0.0                  0.0                 1.0   \n",
       "676                          0.0                  0.0                 3.0   \n",
       "\n",
       "     Rookie Of The Month all_star_game rookie_all_star_game  allstar_rk  \\\n",
       "7                    0.0           NaN                  NaN         3.0   \n",
       "11                   0.0          True                False         4.0   \n",
       "15                   0.0           NaN                  NaN         6.0   \n",
       "23                   0.0          True                False         1.0   \n",
       "26                   0.0          True                False         4.0   \n",
       "..                   ...           ...                  ...         ...   \n",
       "646                  0.0          True                False         1.0   \n",
       "647                  0.0          True                False         4.0   \n",
       "662                  0.0          True                False         7.0   \n",
       "666                  0.0           NaN                  NaN         9.0   \n",
       "676                  0.0          True                False         2.0   \n",
       "\n",
       "     Defensive Player Of The Year_rk  Most Improved Player_rk  \\\n",
       "7                                NaN                      NaN   \n",
       "11                               NaN                      NaN   \n",
       "15                               NaN                      NaN   \n",
       "23                               NaN                      NaN   \n",
       "26                               NaN                      NaN   \n",
       "..                               ...                      ...   \n",
       "646                              NaN                      NaN   \n",
       "647                              NaN                      NaN   \n",
       "662                              NaN                      NaN   \n",
       "666                              NaN                      NaN   \n",
       "676                              NaN                      NaN   \n",
       "\n",
       "     Most Valuable Player_rk  Rookie Of The Year_rk  Sixth Man Of The Year_rk  \\\n",
       "7                        8.0                    NaN                       NaN   \n",
       "11                      14.0                    NaN                       NaN   \n",
       "15                      10.0                    NaN                       1.0   \n",
       "23                       NaN                    NaN                       NaN   \n",
       "26                      14.0                    NaN                       NaN   \n",
       "..                       ...                    ...                       ...   \n",
       "646                     10.0                    NaN                       NaN   \n",
       "647                      9.0                    NaN                       NaN   \n",
       "662                      NaN                    NaN                       NaN   \n",
       "666                      NaN                    NaN                       NaN   \n",
       "676                      NaN                    NaN                       NaN   \n",
       "\n",
       "     all_nba_points_rk  all_rookie_points_rk  \n",
       "7                  NaN                   NaN  \n",
       "11                 NaN                   NaN  \n",
       "15                 NaN                   NaN  \n",
       "23                 NaN                   NaN  \n",
       "26                 NaN                   NaN  \n",
       "..                 ...                   ...  \n",
       "646               12.0                   NaN  \n",
       "647               13.0                   NaN  \n",
       "662               11.0                   NaN  \n",
       "666               15.0                   NaN  \n",
       "676               14.0                   NaN  \n",
       "\n",
       "[75 rows x 23 columns]"
      ]
     },
     "execution_count": 33,
     "metadata": {},
     "output_type": "execute_result"
    }
   ],
   "source": [
    "filtered_awards3 = df_awards[df_awards['All NBA Third Team'] >= 1]"
   ]
  },
  {
   "cell_type": "code",
   "execution_count": 12,
   "id": "efd2db20",
   "metadata": {},
   "outputs": [],
   "source": [
    "merged_df3 = filtered_awards3.merge(df_playerstats, on='nbapersonid', how='left')"
   ]
  },
  {
   "cell_type": "code",
   "execution_count": 13,
   "id": "980bce6b",
   "metadata": {},
   "outputs": [
    {
     "data": {
      "text/plain": [
       "973766"
      ]
     },
     "execution_count": 13,
     "metadata": {},
     "output_type": "execute_result"
    }
   ],
   "source": [
    "merged_df3['points'].sum()"
   ]
  },
  {
   "cell_type": "code",
   "execution_count": 31,
   "id": "7d7825d0",
   "metadata": {},
   "outputs": [
    {
     "data": {
      "text/plain": [
       "53860"
      ]
     },
     "execution_count": 31,
     "metadata": {},
     "output_type": "execute_result"
    }
   ],
   "source": [
    "merged_df3['games'].sum()"
   ]
  },
  {
   "cell_type": "code",
   "execution_count": 14,
   "id": "31fdedd1",
   "metadata": {},
   "outputs": [],
   "source": [
    "filtered_awardsAS = df_awards.query('all_star_game == True')"
   ]
  },
  {
   "cell_type": "code",
   "execution_count": 15,
   "id": "ef1e9eb6",
   "metadata": {},
   "outputs": [],
   "source": [
    "merged_dfAS = filtered_awardsAS.merge(df_playerstats, on='nbapersonid', how='left')"
   ]
  },
  {
   "cell_type": "code",
   "execution_count": 25,
   "id": "9cd25970",
   "metadata": {},
   "outputs": [
    {
     "data": {
      "text/plain": [
       "5389509"
      ]
     },
     "execution_count": 25,
     "metadata": {},
     "output_type": "execute_result"
    }
   ],
   "source": [
    "merged_dfAS['points'].sum()"
   ]
  },
  {
   "cell_type": "code",
   "execution_count": 32,
   "id": "490203ae",
   "metadata": {},
   "outputs": [
    {
     "data": {
      "text/plain": [
       "277913"
      ]
     },
     "execution_count": 32,
     "metadata": {},
     "output_type": "execute_result"
    }
   ],
   "source": [
    "merged_dfAS['games'].sum()"
   ]
  },
  {
   "cell_type": "markdown",
   "id": "fa7de16f",
   "metadata": {},
   "source": [
    "<strong><span style=\"color:red\">ANSWER 1:</span></strong>   \n",
    "\n",
    "1st Team: 22.7 points per game  \n",
    "2nd Team: 20.2 points per game  \n",
    "3rd Team: 18.07 points per game  \n",
    "All-Star: 19.39 points per game  "
   ]
  },
  {
   "cell_type": "code",
   "execution_count": null,
   "id": "92d6dea2",
   "metadata": {},
   "outputs": [],
   "source": []
  }
 ],
 "metadata": {
  "kernelspec": {
   "display_name": "Python 3 (ipykernel)",
   "language": "python",
   "name": "python3"
  },
  "language_info": {
   "codemirror_mode": {
    "name": "ipython",
    "version": 3
   },
   "file_extension": ".py",
   "mimetype": "text/x-python",
   "name": "python",
   "nbconvert_exporter": "python",
   "pygments_lexer": "ipython3",
   "version": "3.11.4"
  }
 },
 "nbformat": 4,
 "nbformat_minor": 5
}
